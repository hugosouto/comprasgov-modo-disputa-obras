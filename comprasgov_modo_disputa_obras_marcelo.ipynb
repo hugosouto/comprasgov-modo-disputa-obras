{
  "cells": [
    {
      "cell_type": "code",
      "execution_count": 1,
      "metadata": {
        "colab": {
          "base_uri": "https://localhost:8080/",
          "height": 382
        },
        "id": "8eEce714R0al",
        "outputId": "1bc7a2bd-90a1-4325-beb1-4d6e2d11b058"
      },
      "outputs": [],
      "source": [
        "#!pip install pandas openpyxl ezodf  pyjanitor\n",
        "\n",
        "import pandas as pd\n",
        "import numpy as np\n",
        "# import openpyxl\n",
        "# import ezodf\n",
        "# import janitor as jtr"
      ]
    },
    {
      "cell_type": "code",
      "execution_count": 2,
      "metadata": {},
      "outputs": [
        {
          "data": {
            "text/html": [
              "<div>\n",
              "<style scoped>\n",
              "    .dataframe tbody tr th:only-of-type {\n",
              "        vertical-align: middle;\n",
              "    }\n",
              "\n",
              "    .dataframe tbody tr th {\n",
              "        vertical-align: top;\n",
              "    }\n",
              "\n",
              "    .dataframe thead th {\n",
              "        text-align: right;\n",
              "    }\n",
              "</style>\n",
              "<table border=\"1\" class=\"dataframe\">\n",
              "  <thead>\n",
              "    <tr style=\"text-align: right;\">\n",
              "      <th></th>\n",
              "      <th>Ano da compra</th>\n",
              "      <th>Tipo da compra</th>\n",
              "      <th>Número da Uasg</th>\n",
              "      <th>Número / Ano da Compra</th>\n",
              "      <th>Número do Item</th>\n",
              "      <th>Grupo do Item</th>\n",
              "      <th>Objeto da Compra</th>\n",
              "      <th>UF da Uasg</th>\n",
              "      <th>Regime de Execução</th>\n",
              "      <th>Critério de Julgamento</th>\n",
              "      <th>...</th>\n",
              "      <th>Quantidade do Item</th>\n",
              "      <th>Orçamento Estimado do Item</th>\n",
              "      <th>Tipo de Benefício do Item</th>\n",
              "      <th>Valor Adjudicado</th>\n",
              "      <th>Melhor Lance</th>\n",
              "      <th>Valor Final Negociado</th>\n",
              "      <th>Quantidade de Participantes do Item</th>\n",
              "      <th>Situação da Compra</th>\n",
              "      <th>Situação do Item</th>\n",
              "      <th>Identificação do Fornecedor Vencedor (adjudicado)</th>\n",
              "    </tr>\n",
              "  </thead>\n",
              "  <tbody>\n",
              "    <tr>\n",
              "      <th>0</th>\n",
              "      <td>2013</td>\n",
              "      <td>RDC</td>\n",
              "      <td>153028</td>\n",
              "      <td>1/2013</td>\n",
              "      <td>1</td>\n",
              "      <td>NaN</td>\n",
              "      <td>Objeto: Contratação de empresa de engenharia, ...</td>\n",
              "      <td>MG</td>\n",
              "      <td>Empreitada por Preço Global</td>\n",
              "      <td>Menor Preço</td>\n",
              "      <td>...</td>\n",
              "      <td>1</td>\n",
              "      <td>1983590.35</td>\n",
              "      <td>Sem benefícios</td>\n",
              "      <td>1980000.0</td>\n",
              "      <td>2060000.00</td>\n",
              "      <td>1980000.0</td>\n",
              "      <td>4</td>\n",
              "      <td>Homologada</td>\n",
              "      <td>Homologado</td>\n",
              "      <td>11301559000178 - T &amp; T EDIFICACOES LTDA - EPP(...</td>\n",
              "    </tr>\n",
              "    <tr>\n",
              "      <th>1</th>\n",
              "      <td>2013</td>\n",
              "      <td>RDC</td>\n",
              "      <td>153028</td>\n",
              "      <td>2/2013</td>\n",
              "      <td>1</td>\n",
              "      <td>NaN</td>\n",
              "      <td>Objeto: Contratação de empresa de engenharia, ...</td>\n",
              "      <td>MG</td>\n",
              "      <td>Empreitada por Preço Global</td>\n",
              "      <td>Menor Preço</td>\n",
              "      <td>...</td>\n",
              "      <td>1</td>\n",
              "      <td>1774561.72</td>\n",
              "      <td>Sem benefícios</td>\n",
              "      <td>1770000.0</td>\n",
              "      <td>1869000.00</td>\n",
              "      <td>1770000.0</td>\n",
              "      <td>5</td>\n",
              "      <td>Homologada</td>\n",
              "      <td>Homologado</td>\n",
              "      <td>09321831000130 - CONSTRUTORA SANTIAGO LTDA - E...</td>\n",
              "    </tr>\n",
              "    <tr>\n",
              "      <th>2</th>\n",
              "      <td>2013</td>\n",
              "      <td>RDC</td>\n",
              "      <td>153028</td>\n",
              "      <td>3/2013</td>\n",
              "      <td>1</td>\n",
              "      <td>NaN</td>\n",
              "      <td>Objeto: Contratação de empresa de engenharia, ...</td>\n",
              "      <td>MG</td>\n",
              "      <td>Empreitada por Preço Global</td>\n",
              "      <td>Menor Preço</td>\n",
              "      <td>...</td>\n",
              "      <td>1</td>\n",
              "      <td>1773413.65</td>\n",
              "      <td>Sem benefícios</td>\n",
              "      <td>1710000.0</td>\n",
              "      <td>1848999.99</td>\n",
              "      <td>1710000.0</td>\n",
              "      <td>2</td>\n",
              "      <td>Homologada</td>\n",
              "      <td>Homologado</td>\n",
              "      <td>09236291000196 - FLAVIO DONIZETE FERREIRA &amp; CI...</td>\n",
              "    </tr>\n",
              "    <tr>\n",
              "      <th>3</th>\n",
              "      <td>2013</td>\n",
              "      <td>RDC</td>\n",
              "      <td>153028</td>\n",
              "      <td>4/2013</td>\n",
              "      <td>1</td>\n",
              "      <td>NaN</td>\n",
              "      <td>Objeto: Contratação de empresa de engenharia, ...</td>\n",
              "      <td>MG</td>\n",
              "      <td>Empreitada por Preço Global</td>\n",
              "      <td>Menor Preço</td>\n",
              "      <td>...</td>\n",
              "      <td>1</td>\n",
              "      <td>4765528.54</td>\n",
              "      <td>Sem benefícios</td>\n",
              "      <td>4745000.0</td>\n",
              "      <td>6050000.00</td>\n",
              "      <td>4745000.0</td>\n",
              "      <td>5</td>\n",
              "      <td>Homologada</td>\n",
              "      <td>Homologado</td>\n",
              "      <td>19318799000197 - VECON VOLPINI ENGENHARIA E CO...</td>\n",
              "    </tr>\n",
              "    <tr>\n",
              "      <th>4</th>\n",
              "      <td>2013</td>\n",
              "      <td>RDC</td>\n",
              "      <td>153030</td>\n",
              "      <td>1/2013</td>\n",
              "      <td>1</td>\n",
              "      <td>NaN</td>\n",
              "      <td>Objeto: Contratação de empresa do ramo de cons...</td>\n",
              "      <td>MG</td>\n",
              "      <td>Empreitada por Preço Global</td>\n",
              "      <td>Menor Preço</td>\n",
              "      <td>...</td>\n",
              "      <td>1</td>\n",
              "      <td>5491716.59</td>\n",
              "      <td>Sem benefícios</td>\n",
              "      <td>5060000.0</td>\n",
              "      <td>5060000.00</td>\n",
              "      <td>NaN</td>\n",
              "      <td>5</td>\n",
              "      <td>Homologada</td>\n",
              "      <td>Homologado</td>\n",
              "      <td>11301559000178 - T &amp; T EDIFICACOES LTDA - EPP(...</td>\n",
              "    </tr>\n",
              "  </tbody>\n",
              "</table>\n",
              "<p>5 rows × 27 columns</p>\n",
              "</div>"
            ],
            "text/plain": [
              "   Ano da compra Tipo da compra  Número da Uasg Número / Ano da Compra  \\\n",
              "0           2013            RDC          153028                 1/2013   \n",
              "1           2013            RDC          153028                 2/2013   \n",
              "2           2013            RDC          153028                 3/2013   \n",
              "3           2013            RDC          153028                 4/2013   \n",
              "4           2013            RDC          153030                 1/2013   \n",
              "\n",
              "   Número do Item Grupo do Item  \\\n",
              "0               1           NaN   \n",
              "1               1           NaN   \n",
              "2               1           NaN   \n",
              "3               1           NaN   \n",
              "4               1           NaN   \n",
              "\n",
              "                                    Objeto da Compra UF da Uasg  \\\n",
              "0  Objeto: Contratação de empresa de engenharia, ...         MG   \n",
              "1  Objeto: Contratação de empresa de engenharia, ...         MG   \n",
              "2  Objeto: Contratação de empresa de engenharia, ...         MG   \n",
              "3  Objeto: Contratação de empresa de engenharia, ...         MG   \n",
              "4  Objeto: Contratação de empresa do ramo de cons...         MG   \n",
              "\n",
              "            Regime de Execução Critério de Julgamento  ... Quantidade do Item  \\\n",
              "0  Empreitada por Preço Global            Menor Preço  ...                  1   \n",
              "1  Empreitada por Preço Global            Menor Preço  ...                  1   \n",
              "2  Empreitada por Preço Global            Menor Preço  ...                  1   \n",
              "3  Empreitada por Preço Global            Menor Preço  ...                  1   \n",
              "4  Empreitada por Preço Global            Menor Preço  ...                  1   \n",
              "\n",
              "  Orçamento Estimado do Item Tipo de Benefício do Item Valor Adjudicado  \\\n",
              "0                 1983590.35            Sem benefícios        1980000.0   \n",
              "1                 1774561.72            Sem benefícios        1770000.0   \n",
              "2                 1773413.65            Sem benefícios        1710000.0   \n",
              "3                 4765528.54            Sem benefícios        4745000.0   \n",
              "4                 5491716.59            Sem benefícios        5060000.0   \n",
              "\n",
              "  Melhor Lance Valor Final Negociado Quantidade de Participantes do Item  \\\n",
              "0   2060000.00             1980000.0                                   4   \n",
              "1   1869000.00             1770000.0                                   5   \n",
              "2   1848999.99             1710000.0                                   2   \n",
              "3   6050000.00             4745000.0                                   5   \n",
              "4   5060000.00                   NaN                                   5   \n",
              "\n",
              "   Situação da Compra  Situação do Item  \\\n",
              "0          Homologada        Homologado   \n",
              "1          Homologada        Homologado   \n",
              "2          Homologada        Homologado   \n",
              "3          Homologada        Homologado   \n",
              "4          Homologada        Homologado   \n",
              "\n",
              "   Identificação do Fornecedor Vencedor (adjudicado)  \n",
              "0  11301559000178 - T & T EDIFICACOES LTDA - EPP(...  \n",
              "1  09321831000130 - CONSTRUTORA SANTIAGO LTDA - E...  \n",
              "2  09236291000196 - FLAVIO DONIZETE FERREIRA & CI...  \n",
              "3  19318799000197 - VECON VOLPINI ENGENHARIA E CO...  \n",
              "4  11301559000178 - T & T EDIFICACOES LTDA - EPP(...  \n",
              "\n",
              "[5 rows x 27 columns]"
            ]
          },
          "execution_count": 2,
          "metadata": {},
          "output_type": "execute_result"
        }
      ],
      "source": [
        "# Read the data at data/2023-09-29-extracao-rdc.ods\n",
        "df = pd.read_excel('data/2023-09-29-extracao-rdc.ods', engine='odf')\n",
        "df.head()"
      ]
    },
    {
      "cell_type": "code",
      "execution_count": 3,
      "metadata": {
        "colab": {
          "base_uri": "https://localhost:8080/"
        },
        "id": "SJnCXSKOS7rU",
        "outputId": "ff37db96-c879-48f4-8644-cb87279e44c3"
      },
      "outputs": [
        {
          "data": {
            "text/plain": [
              "Index(['Ano da compra', 'Tipo da compra', 'Número da Uasg',\n",
              "       'Número / Ano da Compra', 'Número do Item', 'Grupo do Item',\n",
              "       'Objeto da Compra', 'UF da Uasg', 'Regime de Execução',\n",
              "       'Critério de Julgamento', 'Data / Hora da Primeira Publicação',\n",
              "       'Data Hora Realização do Certame / Fim Proposta',\n",
              "       'Data Hora de Homologação da Compra',\n",
              "       'Data Hora de Homologação do Item', 'Tipo do Item', 'Nome do Item',\n",
              "       'Unidade de Fornecimento do Item', 'Quantidade do Item',\n",
              "       'Orçamento Estimado do Item', 'Tipo de Benefício do Item',\n",
              "       'Valor Adjudicado', 'Melhor Lance', 'Valor Final Negociado',\n",
              "       'Quantidade de Participantes do Item', 'Situação da Compra',\n",
              "       'Situação do Item',\n",
              "       'Identificação do Fornecedor Vencedor (adjudicado)'],\n",
              "      dtype='object')"
            ]
          },
          "execution_count": 3,
          "metadata": {},
          "output_type": "execute_result"
        }
      ],
      "source": [
        "df.columns"
      ]
    },
    {
      "cell_type": "code",
      "execution_count": 4,
      "metadata": {
        "colab": {
          "base_uri": "https://localhost:8080/"
        },
        "id": "rInqaKTRXh9_",
        "outputId": "d5299df0-6889-44f0-940b-bd4a95c76c9d"
      },
      "outputs": [
        {
          "name": "stdout",
          "output_type": "stream",
          "text": [
            "<class 'pandas.core.frame.DataFrame'>\n",
            "RangeIndex: 7382 entries, 0 to 7381\n",
            "Data columns (total 27 columns):\n",
            " #   Column                                             Non-Null Count  Dtype         \n",
            "---  ------                                             --------------  -----         \n",
            " 0   Ano da compra                                      7382 non-null   int64         \n",
            " 1   Tipo da compra                                     7382 non-null   object        \n",
            " 2   Número da Uasg                                     7382 non-null   int64         \n",
            " 3   Número / Ano da Compra                             7382 non-null   object        \n",
            " 4   Número do Item                                     7382 non-null   int64         \n",
            " 5   Grupo do Item                                      1181 non-null   object        \n",
            " 6   Objeto da Compra                                   7382 non-null   object        \n",
            " 7   UF da Uasg                                         7382 non-null   object        \n",
            " 8   Regime de Execução                                 7382 non-null   object        \n",
            " 9   Critério de Julgamento                             7382 non-null   object        \n",
            " 10  Data / Hora da Primeira Publicação                 7382 non-null   datetime64[ns]\n",
            " 11  Data Hora Realização do Certame / Fim Proposta     7382 non-null   datetime64[ns]\n",
            " 12  Data Hora de Homologação da Compra                 7198 non-null   datetime64[ns]\n",
            " 13  Data Hora de Homologação do Item                   7382 non-null   datetime64[ns]\n",
            " 14  Tipo do Item                                       7382 non-null   object        \n",
            " 15  Nome do Item                                       7382 non-null   object        \n",
            " 16  Unidade de Fornecimento do Item                    7382 non-null   object        \n",
            " 17  Quantidade do Item                                 7382 non-null   int64         \n",
            " 18  Orçamento Estimado do Item                         7382 non-null   float64       \n",
            " 19  Tipo de Benefício do Item                          7382 non-null   object        \n",
            " 20  Valor Adjudicado                                   6714 non-null   float64       \n",
            " 21  Melhor Lance                                       6714 non-null   float64       \n",
            " 22  Valor Final Negociado                              2049 non-null   float64       \n",
            " 23  Quantidade de Participantes do Item                7382 non-null   object        \n",
            " 24  Situação da Compra                                 7382 non-null   object        \n",
            " 25  Situação do Item                                   7382 non-null   object        \n",
            " 26  Identificação do Fornecedor Vencedor (adjudicado)  7382 non-null   object        \n",
            "dtypes: datetime64[ns](4), float64(4), int64(4), object(15)\n",
            "memory usage: 1.5+ MB\n"
          ]
        }
      ],
      "source": [
        "df.info()"
      ]
    },
    {
      "cell_type": "code",
      "execution_count": null,
      "metadata": {
        "colab": {
          "base_uri": "https://localhost:8080/"
        },
        "id": "c_uTQyikYDZH",
        "outputId": "b814f76b-6d47-410f-e092-f8dac09a76df"
      },
      "outputs": [
        {
          "name": "stderr",
          "output_type": "stream",
          "text": [
            "/usr/local/lib/python3.10/dist-packages/ipykernel/ipkernel.py:283: DeprecationWarning: `should_run_async` will not call `transform_cell` automatically in the future. Please pass the result to `transformed_cell` argument and any exception that happen during thetransform in `preprocessing_exc_tuple` in IPython 7.17 and above.\n",
            "  and should_run_async(code)\n"
          ]
        }
      ],
      "source": [
        "# transformações:\n",
        "\n",
        "# Fazendo uma cópia do DataFrame original\n",
        "df_serpro_transformed = df.copy()\n",
        "\n",
        "# Substituindo 'NULL' por NaN\n",
        "#df_serpro_transformed.replace('NULL', np.nan, inplace=True)\n",
        "\n",
        "# Convertendo colunas para datetime\n",
        "#df_serpro_transformed['data_hora_da_primeira_publicacao'] = pd.to_datetime(df_serpro_transformed['data_hora_da_primeira_publicacao'], errors='coerce')\n",
        "#df['data_hora_realizacao_do_certame_fim_proposta'] = pd.to_datetime(df['data_hora_realizacao_do_certame_fim_proposta'], errors='coerce')\n",
        "#df['data_hora_de_homologacao_da_compra'] = pd.to_datetime(df['data_hora_de_homologacao_da_compra'], errors='coerce')\n",
        "#df['data_hora_de_homologacao_do_item'] = pd.to_datetime(df['data_hora_de_homologacao_do_item'], errors='coerce')\n",
        "\n",
        "# Convertendo colunas com valores monetários para float\n",
        "# valores monetários estejam em formato de string e que o ponto final representa os centavos\n",
        "#df['orcamento_estimado_do_item'] = df['orcamento_estimado_do_item'].str.replace('.', '').astype(float) / 100\n",
        "#df['valor_adjudicado'] = df['valor_adjudicado'].str.replace('.', '').astype(float) / 100\n",
        "#df['melhor_lance'] = df['melhor_lance'].str.replace('.', '').astype(float) / 100\n",
        "#df['valor_final_negociado'] = df['valor_final_negociado'].str.replace('.', '').astype(float) / 100\n",
        "\n",
        "\n",
        "# Para verificar as alterações\n",
        "#print(df.dtypes)"
      ]
    },
    {
      "cell_type": "code",
      "execution_count": 1,
      "metadata": {
        "colab": {
          "base_uri": "https://localhost:8080/"
        },
        "id": "LdEpPb-L43_F",
        "outputId": "f3dd009d-635b-42b0-cbdc-0d05a300fbed"
      },
      "outputs": [
        {
          "ename": "NameError",
          "evalue": "name 'df' is not defined",
          "output_type": "error",
          "traceback": [
            "\u001b[1;31m---------------------------------------------------------------------------\u001b[0m",
            "\u001b[1;31mNameError\u001b[0m                                 Traceback (most recent call last)",
            "\u001b[1;32mc:\\Users\\Hugo\\GitHub\\comprasgov-modo-disputa-obras\\comprasgov_modo_disputa_obras_marcelo.ipynb Cell 6\u001b[0m line \u001b[0;36m5\n\u001b[0;32m      <a href='vscode-notebook-cell:/c%3A/Users/Hugo/GitHub/comprasgov-modo-disputa-obras/comprasgov_modo_disputa_obras_marcelo.ipynb#W5sZmlsZQ%3D%3D?line=0'>1</a>\u001b[0m \u001b[39m# Criando identificador único => 6 dígitos de UASG + '99' + 5 dígitos do número de compra + 4 dígitos do ano da compra\u001b[39;00m\n\u001b[0;32m      <a href='vscode-notebook-cell:/c%3A/Users/Hugo/GitHub/comprasgov-modo-disputa-obras/comprasgov_modo_disputa_obras_marcelo.ipynb#W5sZmlsZQ%3D%3D?line=1'>2</a>\u001b[0m \n\u001b[0;32m      <a href='vscode-notebook-cell:/c%3A/Users/Hugo/GitHub/comprasgov-modo-disputa-obras/comprasgov_modo_disputa_obras_marcelo.ipynb#W5sZmlsZQ%3D%3D?line=2'>3</a>\u001b[0m \u001b[39m# 6 dígitos de UASG\u001b[39;00m\n\u001b[0;32m      <a href='vscode-notebook-cell:/c%3A/Users/Hugo/GitHub/comprasgov-modo-disputa-obras/comprasgov_modo_disputa_obras_marcelo.ipynb#W5sZmlsZQ%3D%3D?line=3'>4</a>\u001b[0m \u001b[39m# Convertendo a coluna para string\u001b[39;00m\n\u001b[1;32m----> <a href='vscode-notebook-cell:/c%3A/Users/Hugo/GitHub/comprasgov-modo-disputa-obras/comprasgov_modo_disputa_obras_marcelo.ipynb#W5sZmlsZQ%3D%3D?line=4'>5</a>\u001b[0m df[\u001b[39m'\u001b[39m\u001b[39mnumero_da_uasg\u001b[39m\u001b[39m'\u001b[39m] \u001b[39m=\u001b[39m df[\u001b[39m'\u001b[39m\u001b[39mnumero_da_uasg\u001b[39m\u001b[39m'\u001b[39m]\u001b[39m.\u001b[39mastype(\u001b[39mstr\u001b[39m)\n\u001b[0;32m      <a href='vscode-notebook-cell:/c%3A/Users/Hugo/GitHub/comprasgov-modo-disputa-obras/comprasgov_modo_disputa_obras_marcelo.ipynb#W5sZmlsZQ%3D%3D?line=5'>6</a>\u001b[0m \u001b[39m# Removendo o sufixo .0\u001b[39;00m\n\u001b[0;32m      <a href='vscode-notebook-cell:/c%3A/Users/Hugo/GitHub/comprasgov-modo-disputa-obras/comprasgov_modo_disputa_obras_marcelo.ipynb#W5sZmlsZQ%3D%3D?line=6'>7</a>\u001b[0m df[\u001b[39m'\u001b[39m\u001b[39mnumero_da_uasg\u001b[39m\u001b[39m'\u001b[39m] \u001b[39m=\u001b[39m df[\u001b[39m'\u001b[39m\u001b[39mnumero_da_uasg\u001b[39m\u001b[39m'\u001b[39m]\u001b[39m.\u001b[39mstr\u001b[39m.\u001b[39mreplace(\u001b[39m'\u001b[39m\u001b[39m.0\u001b[39m\u001b[39m'\u001b[39m, \u001b[39m'\u001b[39m\u001b[39m'\u001b[39m)\n",
            "\u001b[1;31mNameError\u001b[0m: name 'df' is not defined"
          ]
        }
      ],
      "source": [
        "# Criando identificador único => 6 dígitos de UASG + '99' + 5 dígitos do número de compra + 4 dígitos do ano da compra\n",
        "\n",
        "# 6 dígitos de UASG\n",
        "# Convertendo a coluna para string\n",
        "df['numero_da_uasg'] = df['numero_da_uasg'].astype(str)\n",
        "# Removendo o sufixo .0\n",
        "df['numero_da_uasg'] = df['numero_da_uasg'].str.replace('.0', '')\n",
        "# Preenchendo com zeros à esquerda até atingir 6 dígitos\n",
        "df['numero_da_uasg'] = df['numero_da_uasg'].str.zfill(6)\n",
        "\n",
        "\n",
        "# Garantindo que a coluna é para string\n",
        "df['numero_ano_da_compra'] = df['numero_ano_da_compra'].astype(str)\n",
        "\n",
        "# Separando a parte da compra e a parte do ano\n",
        "compra_ano_split = df['numero_ano_da_compra'].str.split('/', expand=True)\n",
        "compra = compra_ano_split[0]\n",
        "ano = compra_ano_split[1]\n",
        "\n",
        "# Preenchendo a parte da compra com zeros à esquerda até atingir 5 caracteres\n",
        "compra_preenchida = compra.str.zfill(5)\n",
        "\n",
        "# Concatenando as partes de compra e ano de volta juntas\n",
        "df['numero_ano_da_compra'] = compra_preenchida + ano\n",
        "\n",
        "# Para verificar as alterações\n",
        "print(df['numero_ano_da_compra'].head())"
      ]
    },
    {
      "cell_type": "code",
      "execution_count": null,
      "metadata": {
        "colab": {
          "base_uri": "https://localhost:8080/"
        },
        "id": "7S45TII26ySZ",
        "outputId": "f799df6c-2844-48d6-c6b6-ba772b1c4b81"
      },
      "outputs": [
        {
          "name": "stderr",
          "output_type": "stream",
          "text": [
            "/usr/local/lib/python3.10/dist-packages/ipykernel/ipkernel.py:283: DeprecationWarning: `should_run_async` will not call `transform_cell` automatically in the future. Please pass the result to `transformed_cell` argument and any exception that happen during thetransform in `preprocessing_exc_tuple` in IPython 7.17 and above.\n",
            "  and should_run_async(code)\n"
          ]
        }
      ],
      "source": [
        "# Concatenando os valores para criar a nova coluna\n",
        "df_serpro_transformed['cod_identificador_unico'] = (\n",
        "    df_serpro_transformed['numero_da_uasg'] +\n",
        "    '99' +\n",
        "    df_serpro_transformed['numero_ano_da_compra']\n",
        ")"
      ]
    },
    {
      "cell_type": "code",
      "execution_count": null,
      "metadata": {
        "colab": {
          "base_uri": "https://localhost:8080/"
        },
        "id": "4QFw3Wga7ExU",
        "outputId": "bb6885b7-011c-4714-d50f-279e42df20ce"
      },
      "outputs": [
        {
          "name": "stdout",
          "output_type": "stream",
          "text": [
            "   ano_da_compra tipo_da_compra numero_da_uasg numero_ano_da_compra  \\\n",
            "0         2013.0            RDC         001528            000012013   \n",
            "1         2013.0            RDC         001528            000022013   \n",
            "2         2013.0            RDC         001528            000032013   \n",
            "3         2013.0            RDC         001528            000042013   \n",
            "4         2013.0            RDC         000015            000012013   \n",
            "\n",
            "   numero_do_item grupo_do_item  \\\n",
            "0             1.0          None   \n",
            "1             1.0          None   \n",
            "2             1.0          None   \n",
            "3             1.0          None   \n",
            "4             1.0          None   \n",
            "\n",
            "                                    objeto_da_compra uf_da_uasg  \\\n",
            "0  Objeto: Contratação de empresa de engenharia, ...         MG   \n",
            "1  Objeto: Contratação de empresa de engenharia, ...         MG   \n",
            "2  Objeto: Contratação de empresa de engenharia, ...         MG   \n",
            "3  Objeto: Contratação de empresa de engenharia, ...         MG   \n",
            "4  Objeto: Contratação de empresa do ramo de cons...         MG   \n",
            "\n",
            "            regime_de_execucao criterio_de_julgamento  ...  \\\n",
            "0  Empreitada por Preço Global            Menor Preço  ...   \n",
            "1  Empreitada por Preço Global            Menor Preço  ...   \n",
            "2  Empreitada por Preço Global            Menor Preço  ...   \n",
            "3  Empreitada por Preço Global            Menor Preço  ...   \n",
            "4  Empreitada por Preço Global            Menor Preço  ...   \n",
            "\n",
            "  orcamento_estimado_do_item tipo_de_beneficio_do_item valor_adjudicado  \\\n",
            "0               1983590.3500            Sem benefícios  1980000.0000000   \n",
            "1               1774561.7200            Sem benefícios  1770000.0000000   \n",
            "2               1773413.6500            Sem benefícios  1710000.0000000   \n",
            "3               4765528.5400            Sem benefícios  4745000.0000000   \n",
            "4               5491716.5900            Sem benefícios  5060000.0000000   \n",
            "\n",
            "   melhor_lance valor_final_negociado quantidade_de_participantes_do_item  \\\n",
            "0  2060000.0000          1980000.0000                                 4.0   \n",
            "1  1869000.0000          1770000.0000                                 5.0   \n",
            "2  1848999.9900          1710000.0000                                 2.0   \n",
            "3  6050000.0000          4745000.0000                                 5.0   \n",
            "4  5060000.0000                  NULL                                 5.0   \n",
            "\n",
            "  situacao_da_compra  situacao_do_item  \\\n",
            "0         Homologada        Homologado   \n",
            "1         Homologada        Homologado   \n",
            "2         Homologada        Homologado   \n",
            "3         Homologada        Homologado   \n",
            "4         Homologada        Homologado   \n",
            "\n",
            "    identificacao_do_fornecedor_vencedor_adjudicado_ cod_identificador_unico  \n",
            "0  11301559000178 - T & T EDIFICACOES LTDA - EPP(...       00152899000012013  \n",
            "1  09321831000130 - CONSTRUTORA SANTIAGO LTDA - E...       00152899000022013  \n",
            "2  09236291000196 - FLAVIO DONIZETE FERREIRA & CI...       00152899000032013  \n",
            "3  19318799000197 - VECON VOLPINI ENGENHARIA E CO...       00152899000042013  \n",
            "4  11301559000178 - T & T EDIFICACOES LTDA - EPP(...       00001599000012013  \n",
            "\n",
            "[5 rows x 28 columns]\n"
          ]
        },
        {
          "name": "stderr",
          "output_type": "stream",
          "text": [
            "/usr/local/lib/python3.10/dist-packages/ipykernel/ipkernel.py:283: DeprecationWarning: `should_run_async` will not call `transform_cell` automatically in the future. Please pass the result to `transformed_cell` argument and any exception that happen during thetransform in `preprocessing_exc_tuple` in IPython 7.17 and above.\n",
            "  and should_run_async(code)\n"
          ]
        }
      ],
      "source": [
        "print(df_serpro_transformed.head())"
      ]
    },
    {
      "cell_type": "code",
      "execution_count": null,
      "metadata": {
        "colab": {
          "base_uri": "https://localhost:8080/"
        },
        "id": "WFVzhhcs8PUB",
        "outputId": "0d7ee22e-e850-46c4-f129-a9e0cd566492"
      },
      "outputs": [
        {
          "name": "stderr",
          "output_type": "stream",
          "text": [
            "/usr/local/lib/python3.10/dist-packages/ipykernel/ipkernel.py:283: DeprecationWarning: `should_run_async` will not call `transform_cell` automatically in the future. Please pass the result to `transformed_cell` argument and any exception that happen during thetransform in `preprocessing_exc_tuple` in IPython 7.17 and above.\n",
            "  and should_run_async(code)\n"
          ]
        },
        {
          "name": "stdout",
          "output_type": "stream",
          "text": [
            "Dados exportados com sucesso para rdc_serpro.xlsx\n"
          ]
        }
      ],
      "source": [
        "# exportando para o excel\n",
        "\n",
        "# Definindo o nome do arquivo\n",
        "file_name = 'rdc_serpro.xlsx'\n",
        "\n",
        "# Exportando o DataFrame para um arquivo Excel\n",
        "df_serpro_transformed.to_excel(file_name, index=False)\n",
        "\n",
        "print(f'Dados exportados com sucesso para {file_name}')\n"
      ]
    }
  ],
  "metadata": {
    "colab": {
      "provenance": []
    },
    "kernelspec": {
      "display_name": "Python 3",
      "name": "python3"
    },
    "language_info": {
      "codemirror_mode": {
        "name": "ipython",
        "version": 3
      },
      "file_extension": ".py",
      "mimetype": "text/x-python",
      "name": "python",
      "nbconvert_exporter": "python",
      "pygments_lexer": "ipython3",
      "version": "3.11.5"
    }
  },
  "nbformat": 4,
  "nbformat_minor": 0
}
